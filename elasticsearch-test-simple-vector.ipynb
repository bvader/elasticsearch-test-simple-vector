{
  "nbformat": 4,
  "nbformat_minor": 0,
  "metadata": {
    "colab": {
      "provenance": [],
      "toc_visible": true,
      "include_colab_link": true
    },
    "kernelspec": {
      "name": "python3",
      "display_name": "Python 3"
    },
    "language_info": {
      "name": "python"
    },
    "widgets": {
      "application/vnd.jupyter.widget-state+json": {
        "feff88d0836d4db89a85aa327dbbb447": {
          "model_module": "@jupyter-widgets/controls",
          "model_name": "HBoxModel",
          "model_module_version": "1.5.0",
          "state": {
            "_dom_classes": [],
            "_model_module": "@jupyter-widgets/controls",
            "_model_module_version": "1.5.0",
            "_model_name": "HBoxModel",
            "_view_count": null,
            "_view_module": "@jupyter-widgets/controls",
            "_view_module_version": "1.5.0",
            "_view_name": "HBoxView",
            "box_style": "",
            "children": [
              "IPY_MODEL_e649fbcb9f7f47f1b8fa544f8b8edad7",
              "IPY_MODEL_94bd993d7dae47489b997ef939f5d266",
              "IPY_MODEL_74cdbe64ed2045f089cf6f51a14ef03d"
            ],
            "layout": "IPY_MODEL_1136ef990ca2412eae9f6767cdaf9d6e"
          }
        },
        "e649fbcb9f7f47f1b8fa544f8b8edad7": {
          "model_module": "@jupyter-widgets/controls",
          "model_name": "HTMLModel",
          "model_module_version": "1.5.0",
          "state": {
            "_dom_classes": [],
            "_model_module": "@jupyter-widgets/controls",
            "_model_module_version": "1.5.0",
            "_model_name": "HTMLModel",
            "_view_count": null,
            "_view_module": "@jupyter-widgets/controls",
            "_view_module_version": "1.5.0",
            "_view_name": "HTMLView",
            "description": "",
            "description_tooltip": null,
            "layout": "IPY_MODEL_a514a962c1b34251b6be84d7ad66f9a1",
            "placeholder": "​",
            "style": "IPY_MODEL_c8cf49f9deb147d8995c71824302db10",
            "value": "100%"
          }
        },
        "94bd993d7dae47489b997ef939f5d266": {
          "model_module": "@jupyter-widgets/controls",
          "model_name": "FloatProgressModel",
          "model_module_version": "1.5.0",
          "state": {
            "_dom_classes": [],
            "_model_module": "@jupyter-widgets/controls",
            "_model_module_version": "1.5.0",
            "_model_name": "FloatProgressModel",
            "_view_count": null,
            "_view_module": "@jupyter-widgets/controls",
            "_view_module_version": "1.5.0",
            "_view_name": "ProgressView",
            "bar_style": "success",
            "description": "",
            "description_tooltip": null,
            "layout": "IPY_MODEL_c5c918a9a13645e98f136e618dcb1491",
            "max": 32,
            "min": 0,
            "orientation": "horizontal",
            "style": "IPY_MODEL_f781ed8d4bb54e4abf6ed890265842c8",
            "value": 32
          }
        },
        "74cdbe64ed2045f089cf6f51a14ef03d": {
          "model_module": "@jupyter-widgets/controls",
          "model_name": "HTMLModel",
          "model_module_version": "1.5.0",
          "state": {
            "_dom_classes": [],
            "_model_module": "@jupyter-widgets/controls",
            "_model_module_version": "1.5.0",
            "_model_name": "HTMLModel",
            "_view_count": null,
            "_view_module": "@jupyter-widgets/controls",
            "_view_module_version": "1.5.0",
            "_view_name": "HTMLView",
            "description": "",
            "description_tooltip": null,
            "layout": "IPY_MODEL_0b5c9765d2fc4e62b89342e8da3f27c7",
            "placeholder": "​",
            "style": "IPY_MODEL_f33af1119fa7423c811dd1f181c1126b",
            "value": " 32/32 [00:15&lt;00:00,  2.31 parts/s]"
          }
        },
        "1136ef990ca2412eae9f6767cdaf9d6e": {
          "model_module": "@jupyter-widgets/base",
          "model_name": "LayoutModel",
          "model_module_version": "1.2.0",
          "state": {
            "_model_module": "@jupyter-widgets/base",
            "_model_module_version": "1.2.0",
            "_model_name": "LayoutModel",
            "_view_count": null,
            "_view_module": "@jupyter-widgets/base",
            "_view_module_version": "1.2.0",
            "_view_name": "LayoutView",
            "align_content": null,
            "align_items": null,
            "align_self": null,
            "border": null,
            "bottom": null,
            "display": null,
            "flex": null,
            "flex_flow": null,
            "grid_area": null,
            "grid_auto_columns": null,
            "grid_auto_flow": null,
            "grid_auto_rows": null,
            "grid_column": null,
            "grid_gap": null,
            "grid_row": null,
            "grid_template_areas": null,
            "grid_template_columns": null,
            "grid_template_rows": null,
            "height": null,
            "justify_content": null,
            "justify_items": null,
            "left": null,
            "margin": null,
            "max_height": null,
            "max_width": null,
            "min_height": null,
            "min_width": null,
            "object_fit": null,
            "object_position": null,
            "order": null,
            "overflow": null,
            "overflow_x": null,
            "overflow_y": null,
            "padding": null,
            "right": null,
            "top": null,
            "visibility": null,
            "width": null
          }
        },
        "a514a962c1b34251b6be84d7ad66f9a1": {
          "model_module": "@jupyter-widgets/base",
          "model_name": "LayoutModel",
          "model_module_version": "1.2.0",
          "state": {
            "_model_module": "@jupyter-widgets/base",
            "_model_module_version": "1.2.0",
            "_model_name": "LayoutModel",
            "_view_count": null,
            "_view_module": "@jupyter-widgets/base",
            "_view_module_version": "1.2.0",
            "_view_name": "LayoutView",
            "align_content": null,
            "align_items": null,
            "align_self": null,
            "border": null,
            "bottom": null,
            "display": null,
            "flex": null,
            "flex_flow": null,
            "grid_area": null,
            "grid_auto_columns": null,
            "grid_auto_flow": null,
            "grid_auto_rows": null,
            "grid_column": null,
            "grid_gap": null,
            "grid_row": null,
            "grid_template_areas": null,
            "grid_template_columns": null,
            "grid_template_rows": null,
            "height": null,
            "justify_content": null,
            "justify_items": null,
            "left": null,
            "margin": null,
            "max_height": null,
            "max_width": null,
            "min_height": null,
            "min_width": null,
            "object_fit": null,
            "object_position": null,
            "order": null,
            "overflow": null,
            "overflow_x": null,
            "overflow_y": null,
            "padding": null,
            "right": null,
            "top": null,
            "visibility": null,
            "width": null
          }
        },
        "c8cf49f9deb147d8995c71824302db10": {
          "model_module": "@jupyter-widgets/controls",
          "model_name": "DescriptionStyleModel",
          "model_module_version": "1.5.0",
          "state": {
            "_model_module": "@jupyter-widgets/controls",
            "_model_module_version": "1.5.0",
            "_model_name": "DescriptionStyleModel",
            "_view_count": null,
            "_view_module": "@jupyter-widgets/base",
            "_view_module_version": "1.2.0",
            "_view_name": "StyleView",
            "description_width": ""
          }
        },
        "c5c918a9a13645e98f136e618dcb1491": {
          "model_module": "@jupyter-widgets/base",
          "model_name": "LayoutModel",
          "model_module_version": "1.2.0",
          "state": {
            "_model_module": "@jupyter-widgets/base",
            "_model_module_version": "1.2.0",
            "_model_name": "LayoutModel",
            "_view_count": null,
            "_view_module": "@jupyter-widgets/base",
            "_view_module_version": "1.2.0",
            "_view_name": "LayoutView",
            "align_content": null,
            "align_items": null,
            "align_self": null,
            "border": null,
            "bottom": null,
            "display": null,
            "flex": null,
            "flex_flow": null,
            "grid_area": null,
            "grid_auto_columns": null,
            "grid_auto_flow": null,
            "grid_auto_rows": null,
            "grid_column": null,
            "grid_gap": null,
            "grid_row": null,
            "grid_template_areas": null,
            "grid_template_columns": null,
            "grid_template_rows": null,
            "height": null,
            "justify_content": null,
            "justify_items": null,
            "left": null,
            "margin": null,
            "max_height": null,
            "max_width": null,
            "min_height": null,
            "min_width": null,
            "object_fit": null,
            "object_position": null,
            "order": null,
            "overflow": null,
            "overflow_x": null,
            "overflow_y": null,
            "padding": null,
            "right": null,
            "top": null,
            "visibility": null,
            "width": null
          }
        },
        "f781ed8d4bb54e4abf6ed890265842c8": {
          "model_module": "@jupyter-widgets/controls",
          "model_name": "ProgressStyleModel",
          "model_module_version": "1.5.0",
          "state": {
            "_model_module": "@jupyter-widgets/controls",
            "_model_module_version": "1.5.0",
            "_model_name": "ProgressStyleModel",
            "_view_count": null,
            "_view_module": "@jupyter-widgets/base",
            "_view_module_version": "1.2.0",
            "_view_name": "StyleView",
            "bar_color": null,
            "description_width": ""
          }
        },
        "0b5c9765d2fc4e62b89342e8da3f27c7": {
          "model_module": "@jupyter-widgets/base",
          "model_name": "LayoutModel",
          "model_module_version": "1.2.0",
          "state": {
            "_model_module": "@jupyter-widgets/base",
            "_model_module_version": "1.2.0",
            "_model_name": "LayoutModel",
            "_view_count": null,
            "_view_module": "@jupyter-widgets/base",
            "_view_module_version": "1.2.0",
            "_view_name": "LayoutView",
            "align_content": null,
            "align_items": null,
            "align_self": null,
            "border": null,
            "bottom": null,
            "display": null,
            "flex": null,
            "flex_flow": null,
            "grid_area": null,
            "grid_auto_columns": null,
            "grid_auto_flow": null,
            "grid_auto_rows": null,
            "grid_column": null,
            "grid_gap": null,
            "grid_row": null,
            "grid_template_areas": null,
            "grid_template_columns": null,
            "grid_template_rows": null,
            "height": null,
            "justify_content": null,
            "justify_items": null,
            "left": null,
            "margin": null,
            "max_height": null,
            "max_width": null,
            "min_height": null,
            "min_width": null,
            "object_fit": null,
            "object_position": null,
            "order": null,
            "overflow": null,
            "overflow_x": null,
            "overflow_y": null,
            "padding": null,
            "right": null,
            "top": null,
            "visibility": null,
            "width": null
          }
        },
        "f33af1119fa7423c811dd1f181c1126b": {
          "model_module": "@jupyter-widgets/controls",
          "model_name": "DescriptionStyleModel",
          "model_module_version": "1.5.0",
          "state": {
            "_model_module": "@jupyter-widgets/controls",
            "_model_module_version": "1.5.0",
            "_model_name": "DescriptionStyleModel",
            "_view_count": null,
            "_view_module": "@jupyter-widgets/base",
            "_view_module_version": "1.2.0",
            "_view_name": "StyleView",
            "description_width": ""
          }
        }
      }
    }
  },
  "cells": [
    {
      "cell_type": "markdown",
      "metadata": {
        "id": "view-in-github",
        "colab_type": "text"
      },
      "source": [
        "<a href=\"https://colab.research.google.com/github/bvader/elasticsearch-test-simple-vector/blob/main/elasticsearch-test-simple-vector.ipynb\" target=\"_parent\"><img src=\"https://colab.research.google.com/assets/colab-badge.svg\" alt=\"Open In Colab\"/></a>"
      ]
    },
    {
      "cell_type": "markdown",
      "source": [
        "# Initial Setup"
      ],
      "metadata": {
        "id": "ObVXyocDZSZw"
      }
    },
    {
      "cell_type": "code",
      "source": [
        "!pip install elasticsearch\n"
      ],
      "metadata": {
        "colab": {
          "base_uri": "https://localhost:8080/"
        },
        "id": "cRUzDQ2MtIna",
        "outputId": "a6d3aa1f-d330-4ebe-9213-5d4596f23789"
      },
      "execution_count": null,
      "outputs": [
        {
          "output_type": "stream",
          "name": "stdout",
          "text": [
            "Requirement already satisfied: elasticsearch in /usr/local/lib/python3.10/dist-packages (8.9.0)\n",
            "Requirement already satisfied: elastic-transport<9,>=8 in /usr/local/lib/python3.10/dist-packages (from elasticsearch) (8.4.0)\n",
            "Requirement already satisfied: urllib3<2,>=1.26.2 in /usr/local/lib/python3.10/dist-packages (from elastic-transport<9,>=8->elasticsearch) (1.26.16)\n",
            "Requirement already satisfied: certifi in /usr/local/lib/python3.10/dist-packages (from elastic-transport<9,>=8->elasticsearch) (2023.7.22)\n"
          ]
        }
      ]
    },
    {
      "cell_type": "code",
      "source": [
        "# Read in connection and auth info\n",
        "import getpass, os\n",
        "\n",
        "os.environ['es_url'] = getpass.getpass('Enter Elasticsearch Endpoint:  ')\n",
        "os.environ['es_user'] = getpass.getpass('Enter User:  ')\n",
        "os.environ['es_pwd'] = getpass.getpass('Enter Password:  ')"
      ],
      "metadata": {
        "id": "Y3umJ1oqT4SG",
        "colab": {
          "base_uri": "https://localhost:8080/"
        },
        "outputId": "7e4b5300-7f0e-4ff4-8746-e9757a356be7"
      },
      "execution_count": null,
      "outputs": [
        {
          "name": "stdout",
          "output_type": "stream",
          "text": [
            "Enter Elasticsearch Endpoint:  ··········\n",
            "Enter User:  ··········\n",
            "Enter Password:  ··········\n"
          ]
        }
      ]
    },
    {
      "cell_type": "code",
      "execution_count": null,
      "metadata": {
        "id": "XbqVOuPbsxb_",
        "colab": {
          "base_uri": "https://localhost:8080/"
        },
        "outputId": "3d28c747-1498-495e-fa09-e556eb5e2073"
      },
      "outputs": [
        {
          "output_type": "execute_result",
          "data": {
            "text/plain": [
              "{'name': 'instance-0000000001',\n",
              " 'cluster_name': '44feffcc909849f295ae3ed4a9be10c1',\n",
              " 'cluster_uuid': 'Fm7mp0U6S0y1ASR9Gjvh3w',\n",
              " 'version': {'number': '8.9.0',\n",
              "  'build_flavor': 'default',\n",
              "  'build_type': 'docker',\n",
              "  'build_hash': '8aa461beb06aa0417a231c345a1b8c38fb498a0d',\n",
              "  'build_date': '2023-07-19T14:43:58.555259655Z',\n",
              "  'build_snapshot': False,\n",
              "  'lucene_version': '9.7.0',\n",
              "  'minimum_wire_compatibility_version': '7.17.0',\n",
              "  'minimum_index_compatibility_version': '7.0.0'},\n",
              " 'tagline': 'You Know, for Search'}"
            ]
          },
          "metadata": {},
          "execution_count": 34
        }
      ],
      "source": [
        "# Connect and test connection\n",
        "from elasticsearch import Elasticsearch\n",
        "\n",
        "\n",
        "es_url = os.environ['es_url']\n",
        "es_user = os.environ['es_user']\n",
        "es_pwd = os.environ['es_pwd']\n",
        "\n",
        "# Initialize the Elasticsearch client\n",
        "es = Elasticsearch(\n",
        "    [es_url],\n",
        "    basic_auth=(es_user, es_pwd),\n",
        "    request_timeout=30\n",
        ")\n",
        "es.info().body"
      ]
    },
    {
      "cell_type": "code",
      "source": [
        "# Upload the file first\n",
        "!head /content/sample_data/amazon_pqa_headset.json"
      ],
      "metadata": {
        "id": "y6e_aa9kyjcI",
        "colab": {
          "base_uri": "https://localhost:8080/"
        },
        "outputId": "5281e99a-c1a8-403d-e165-2277ec49b5c8"
      },
      "execution_count": null,
      "outputs": [
        {
          "output_type": "stream",
          "name": "stdout",
          "text": [
            "{\"question_id\": \"Tx39GCUOS5AYAFK\", \"question_text\": \"does this work with cisco ip phone 7942\", \"asin\": \"B000LSZ2D6\", \"bullet_point1\": \"Noise-Canceling microphone filters out background sound\", \"bullet_point2\": \"HW251N P/N 75100-06\", \"bullet_point3\": \"Uses Plantronics QD Quick Disconnect Connector. Must be used with Plantronics Amp or with proper phone or USB adapter cable\", \"bullet_point4\": \"Connectivity Technology: Wired, Earpiece Design: Over-the-head, Earpiece Type: Monaural, Host Interface: Proprietary, Microphone Design: Boom, Microphone Technology: Noise Canceling, Product Model: HW251N, Product Series: SupraPlus, Standard Warranty: 2 Year\", \"bullet_point5\": \"Easy Lightweight Wear -Leaving One Ear Uncovered For Person-to-Person Conversations\", \"product_description\": \"\", \"brand_name\": \"Plantronics\", \"item_name\": \"Plantronics HW251N SupraPlus Wideband Headset (64338-31)\", \"question_type\": \"yes-no\", \"answer_aggregated\": \"neutral\", \"answers\": [{\"answer_text\": \"Use the Plantronics compatibility guide to see what is compatible with your phone. http://www.plantronics.com/us/compatibility-guide/\"}, {\"answer_text\": \"I think that you will need a extra cord, but, To avoid offering you any false information,   We highly recommend contacting the manufacturer of this product for more specific information.   if you are not sure about it, you can go first to :  http://www.plantronics.com/us/support/  or call Plantronics TOLL FREE SUPPORT: 1-855-765-7878 24-HOUR SUPPORT SUNDAY 2PM-FRIDAY 5PM (PT)  they will answer all the questions you need to know about it.\"}, {\"answer_text\": \"I'm really not positive. It works with our phones that include model numbers 7941, 7945 and 7961.\"}]}\n",
            "{\"question_id\": \"TxH4TPAQFBLE5L\", \"question_text\": \"Is this compatible with the cisco ip phone 7970 / 7961 models?\", \"asin\": \"B000LSZ2D6\", \"bullet_point1\": \"Noise-Canceling microphone filters out background sound\", \"bullet_point2\": \"HW251N P/N 75100-06\", \"bullet_point3\": \"Uses Plantronics QD Quick Disconnect Connector. Must be used with Plantronics Amp or with proper phone or USB adapter cable\", \"bullet_point4\": \"Connectivity Technology: Wired, Earpiece Design: Over-the-head, Earpiece Type: Monaural, Host Interface: Proprietary, Microphone Design: Boom, Microphone Technology: Noise Canceling, Product Model: HW251N, Product Series: SupraPlus, Standard Warranty: 2 Year\", \"bullet_point5\": \"Easy Lightweight Wear -Leaving One Ear Uncovered For Person-to-Person Conversations\", \"product_description\": \"\", \"brand_name\": \"Plantronics\", \"item_name\": \"Plantronics HW251N SupraPlus Wideband Headset (64338-31)\", \"question_type\": \"yes-no\", \"answer_aggregated\": \"yes\", \"answers\": [{\"answer_text\": \"Don\\u2019t know. Call Plantronics\"}, {\"answer_text\": \"Well...Don't know.\"}, {\"answer_text\": \"This headset should work but it requires a separate adapter to go with it in order too connect with this telephone. Below is a headset that includes the cord you'll need to connect with your Cisco phones.  https://www.amazon.com/dp/B01MYGZGUV\"}, {\"answer_text\": \"Hello! Yes it is compatible, however please note you will need an adapter cable in order to plug it into the phone. The model of the cable depends on the phone that you have. The compatible model for both phones is a U10 cable, Part Number: 26716-01. Feel free to contact our Customer Care Team at: 800-985-9815 if you have any other questions!\"}]}\n",
            "{\"question_id\": \"TxQE5FTUZUKZTX\", \"question_text\": \"If i have a polycom vvx, what adapter cable will i need to plug in this headset to?\", \"asin\": \"B000LSZ2D6\", \"bullet_point1\": \"Noise-Canceling microphone filters out background sound\", \"bullet_point2\": \"HW251N P/N 75100-06\", \"bullet_point3\": \"Uses Plantronics QD Quick Disconnect Connector. Must be used with Plantronics Amp or with proper phone or USB adapter cable\", \"bullet_point4\": \"Connectivity Technology: Wired, Earpiece Design: Over-the-head, Earpiece Type: Monaural, Host Interface: Proprietary, Microphone Design: Boom, Microphone Technology: Noise Canceling, Product Model: HW251N, Product Series: SupraPlus, Standard Warranty: 2 Year\", \"bullet_point5\": \"Easy Lightweight Wear -Leaving One Ear Uncovered For Person-to-Person Conversations\", \"product_description\": \"\", \"brand_name\": \"Plantronics\", \"item_name\": \"Plantronics HW251N SupraPlus Wideband Headset (64338-31)\", \"question_type\": \"WH\", \"answer_aggregated\": \"N/A\", \"answers\": [{\"answer_text\": \"Hi Gabrielle, what is the model of VVX?\"}, {\"answer_text\": \"This head set come with its own cable\"}, {\"answer_text\": \"Plantronics 27190-01 QD/ED to RJ-9  See...  http://support.polycom.com/global/documents/support/technical/products/voice/FP37477 Using Headsets With Polycom Phones.pdf\"}]}\n",
            "{\"question_id\": \"Tx3G6XE2PTGUTHY\", \"question_text\": \"Does this headset work with a samsung galaxy s6 edge cell phone? if so, which adapter does it require? is that adapter available on amazon?  thanks.\", \"asin\": \"B000LSZ2D6\", \"bullet_point1\": \"Noise-Canceling microphone filters out background sound\", \"bullet_point2\": \"HW251N P/N 75100-06\", \"bullet_point3\": \"Uses Plantronics QD Quick Disconnect Connector. Must be used with Plantronics Amp or with proper phone or USB adapter cable\", \"bullet_point4\": \"Connectivity Technology: Wired, Earpiece Design: Over-the-head, Earpiece Type: Monaural, Host Interface: Proprietary, Microphone Design: Boom, Microphone Technology: Noise Canceling, Product Model: HW251N, Product Series: SupraPlus, Standard Warranty: 2 Year\", \"bullet_point5\": \"Easy Lightweight Wear -Leaving One Ear Uncovered For Person-to-Person Conversations\", \"product_description\": \"\", \"brand_name\": \"Plantronics\", \"item_name\": \"Plantronics HW251N SupraPlus Wideband Headset (64338-31)\", \"question_type\": \"WH\", \"answer_aggregated\": \"N/A\", \"answers\": [{\"answer_text\": \"no wont work\"}]}\n",
            "{\"question_id\": \"Tx29KTO6BDODB6F\", \"question_text\": \"Will this work for a polycom vvx phone? also, is it necessary to purchase that extra adapter if i will use only with ploycom?\", \"asin\": \"B000LSZ2D6\", \"bullet_point1\": \"Noise-Canceling microphone filters out background sound\", \"bullet_point2\": \"HW251N P/N 75100-06\", \"bullet_point3\": \"Uses Plantronics QD Quick Disconnect Connector. Must be used with Plantronics Amp or with proper phone or USB adapter cable\", \"bullet_point4\": \"Connectivity Technology: Wired, Earpiece Design: Over-the-head, Earpiece Type: Monaural, Host Interface: Proprietary, Microphone Design: Boom, Microphone Technology: Noise Canceling, Product Model: HW251N, Product Series: SupraPlus, Standard Warranty: 2 Year\", \"bullet_point5\": \"Easy Lightweight Wear -Leaving One Ear Uncovered For Person-to-Person Conversations\", \"product_description\": \"\", \"brand_name\": \"Plantronics\", \"item_name\": \"Plantronics HW251N SupraPlus Wideband Headset (64338-31)\", \"question_type\": \"WH\", \"answer_aggregated\": \"N/A\", \"answers\": [{\"answer_text\": \"Yes, but you need a cable in between the headset and the Polycom. Plantronics Part Number: 27190-01\"}, {\"answer_text\": \"Hi there, yes this headset will work with your Polycom phone but you'll need to purchase the U10P direct connect cable as well. Out of the box this headset won't connect to anything unless you purchase the adapter for specific phones. Give us a call at 1-800-683-5715 for any further questions.\"}, {\"answer_text\": \"Per Polycom: These are compatible headsets for Polycom Soundpoint IP 300, 301, 335, 430, 450, 500, 501, 550, 560, 600, 601, 650, 670, CX300, CX500, CX600, CX700, VVX 101, VVX 201, VVX 300, 301, VVX 310, 311, VVX 400, 401, VVX 410, 411, VVX 500, 501, VVX 600, 601, VVX 1500.  Plantronics Corded Headsets: Only the Plantronics  SupraPlus \\\" (HW251, HW251N, HW261, HW261N),  \\\"EncorePro 500 series \\\" (HW530, HW540) and the  \\\"EncorePro 700 series \\\" (HW710, HW720) are compatible + Plantronics U10P Cable (part# 27190-01). All the other models may cause a buzzing sound in the headset. Or pick from any one of the pre-packaged Polycom certified headsets (part# ends with -POLY) below. Note: corded headset solution above require 2 pieces - the headset and the RJ-9 bottom cable.\\\"\"}, {\"answer_text\": \"Pls call Polycom\"}, {\"answer_text\": \"yes, you will need the extra cable\"}]}\n",
            "{\"question_id\": \"TxR5E9R4A6QSII\", \"question_text\": \"When you use the mute button can the person on the other end hear you putting them on mute?\", \"asin\": \"B000LSZ2D6\", \"bullet_point1\": \"Noise-Canceling microphone filters out background sound\", \"bullet_point2\": \"HW251N P/N 75100-06\", \"bullet_point3\": \"Uses Plantronics QD Quick Disconnect Connector. Must be used with Plantronics Amp or with proper phone or USB adapter cable\", \"bullet_point4\": \"Connectivity Technology: Wired, Earpiece Design: Over-the-head, Earpiece Type: Monaural, Host Interface: Proprietary, Microphone Design: Boom, Microphone Technology: Noise Canceling, Product Model: HW251N, Product Series: SupraPlus, Standard Warranty: 2 Year\", \"bullet_point5\": \"Easy Lightweight Wear -Leaving One Ear Uncovered For Person-to-Person Conversations\", \"product_description\": \"\", \"brand_name\": \"Plantronics\", \"item_name\": \"Plantronics HW251N SupraPlus Wideband Headset (64338-31)\", \"question_type\": \"WH\", \"answer_aggregated\": \"N/A\", \"answers\": [{\"answer_text\": \"Hello, the answer is no, the other person cannot hear when you are putting them on mute. :) please call 1800-683-5715 for any further questions. Thanks\"}]}\n",
            "{\"question_id\": \"Tx2MH61M1HRNMZM\", \"question_text\": \"will this work with cisco 7942 phone? what cable i need to buy??\", \"asin\": \"B000LSZ2D6\", \"bullet_point1\": \"Noise-Canceling microphone filters out background sound\", \"bullet_point2\": \"HW251N P/N 75100-06\", \"bullet_point3\": \"Uses Plantronics QD Quick Disconnect Connector. Must be used with Plantronics Amp or with proper phone or USB adapter cable\", \"bullet_point4\": \"Connectivity Technology: Wired, Earpiece Design: Over-the-head, Earpiece Type: Monaural, Host Interface: Proprietary, Microphone Design: Boom, Microphone Technology: Noise Canceling, Product Model: HW251N, Product Series: SupraPlus, Standard Warranty: 2 Year\", \"bullet_point5\": \"Easy Lightweight Wear -Leaving One Ear Uncovered For Person-to-Person Conversations\", \"product_description\": \"\", \"brand_name\": \"Plantronics\", \"item_name\": \"Plantronics HW251N SupraPlus Wideband Headset (64338-31)\", \"question_type\": \"WH\", \"answer_aggregated\": \"N/A\", \"answers\": [{\"answer_text\": \"I would call Headsets.com in San Francisco.   They are will know.  I buy my other supplies from them  800-432-3738\"}, {\"answer_text\": \"Hi Libin, you will need the U10 direct connect cable, part number  26716-01. Give us a call with any further questions at 1-800-683-5715.\"}]}\n",
            "{\"question_id\": \"TxKFNX4GCQETFN\", \"question_text\": \"Is there a connector that will work with a Blackberry and /or an iPhone?\", \"asin\": \"B000LSZ2D6\", \"bullet_point1\": \"Noise-Canceling microphone filters out background sound\", \"bullet_point2\": \"HW251N P/N 75100-06\", \"bullet_point3\": \"Uses Plantronics QD Quick Disconnect Connector. Must be used with Plantronics Amp or with proper phone or USB adapter cable\", \"bullet_point4\": \"Connectivity Technology: Wired, Earpiece Design: Over-the-head, Earpiece Type: Monaural, Host Interface: Proprietary, Microphone Design: Boom, Microphone Technology: Noise Canceling, Product Model: HW251N, Product Series: SupraPlus, Standard Warranty: 2 Year\", \"bullet_point5\": \"Easy Lightweight Wear -Leaving One Ear Uncovered For Person-to-Person Conversations\", \"product_description\": \"\", \"brand_name\": \"Plantronics\", \"item_name\": \"Plantronics HW251N SupraPlus Wideband Headset (64338-31)\", \"question_type\": \"yes-no\", \"answer_aggregated\": \"neutral\", \"answers\": [{\"answer_text\": \"I don't think so.  It connects with a regular phone type plug.\"}, {\"answer_text\": \"i don't know if it has a connector. i bought for our work phones Avaya.\"}, {\"answer_text\": \"No, this isn't meant to use with a cell phone.\"}]}\n",
            "{\"question_id\": \"Tx24LVV77BBWB6\", \"question_text\": \"Does it come with a 2.5mm jack ?\", \"asin\": \"B000LSZ2D6\", \"bullet_point1\": \"Noise-Canceling microphone filters out background sound\", \"bullet_point2\": \"HW251N P/N 75100-06\", \"bullet_point3\": \"Uses Plantronics QD Quick Disconnect Connector. Must be used with Plantronics Amp or with proper phone or USB adapter cable\", \"bullet_point4\": \"Connectivity Technology: Wired, Earpiece Design: Over-the-head, Earpiece Type: Monaural, Host Interface: Proprietary, Microphone Design: Boom, Microphone Technology: Noise Canceling, Product Model: HW251N, Product Series: SupraPlus, Standard Warranty: 2 Year\", \"bullet_point5\": \"Easy Lightweight Wear -Leaving One Ear Uncovered For Person-to-Person Conversations\", \"product_description\": \"\", \"brand_name\": \"Plantronics\", \"item_name\": \"Plantronics HW251N SupraPlus Wideband Headset (64338-31)\", \"question_type\": \"yes-no\", \"answer_aggregated\": \"neutral\", \"answers\": [{\"answer_text\": \"It does not. We had to purchase the DA40 USB Digital Adapter to work with our VVX-500 phones. Part # 71800-41\"}, {\"answer_text\": \"no, it never does. Comes with a Quick Disconnect socket.  However, we sell a  short cable ($6.95) that has a 3.5mm pin on one end and a quick discocnnect socket  on the other that might connect this headset to your device (unsure).  Call Plantronics to find out if these 2 items might work on oyur make and model of device\"}, {\"answer_text\": \"No, that would need to be purchased separately.\"}, {\"answer_text\": \"No it does not. It has the Plantronics Quick Disconnect (QD) connector which must be used with a proper adapter cable.\"}, {\"answer_text\": \"No, it does not.\"}, {\"answer_text\": \"I don't know the answer to this, but when we purchased our equipment we called Plantronics directly.  They were completely helpful, answered our questions and didn't try to sell us more than we needed.\"}, {\"answer_text\": \"Yes, I believe so\"}]}\n",
            "{\"question_id\": \"TxJPTVTNQ4NV60\", \"question_text\": \"Which cord do i need to connect this to a polycom vvx600?\", \"asin\": \"B000LSZ2D6\", \"bullet_point1\": \"Noise-Canceling microphone filters out background sound\", \"bullet_point2\": \"HW251N P/N 75100-06\", \"bullet_point3\": \"Uses Plantronics QD Quick Disconnect Connector. Must be used with Plantronics Amp or with proper phone or USB adapter cable\", \"bullet_point4\": \"Connectivity Technology: Wired, Earpiece Design: Over-the-head, Earpiece Type: Monaural, Host Interface: Proprietary, Microphone Design: Boom, Microphone Technology: Noise Canceling, Product Model: HW251N, Product Series: SupraPlus, Standard Warranty: 2 Year\", \"bullet_point5\": \"Easy Lightweight Wear -Leaving One Ear Uncovered For Person-to-Person Conversations\", \"product_description\": \"\", \"brand_name\": \"Plantronics\", \"item_name\": \"Plantronics HW251N SupraPlus Wideband Headset (64338-31)\", \"question_type\": \"WH\", \"answer_aggregated\": \"N/A\", \"answers\": [{\"answer_text\": \"Hi there, you would need the U10P 27190-01 direct connect cable. Another model to consider is the Discover D701 and you would need the D100 direct connect cable with that. Below is a link for your reference and give us a call at 1-800-683-5715 for any further questions. https://www.amazon.com/Discover-D701-Single-Office-Headset/dp/B01GGRAOYW/ref sr 1 1?ie UTF8&qid 1480543290&sr 8-1&keywords discover+d701\"}]}\n"
          ]
        }
      ]
    },
    {
      "cell_type": "markdown",
      "source": [
        "# Data and Model Setup"
      ],
      "metadata": {
        "id": "ELvXvOSFZs56"
      }
    },
    {
      "cell_type": "code",
      "source": [
        "# Load the data into the dataframe. 1000 rows for test\n",
        "import sys\n",
        "import datetime\n",
        "import json\n",
        "import os\n",
        "import time\n",
        "\n",
        "import pandas as pd\n",
        "import numpy as np\n",
        "\n",
        "from elasticsearch import Elasticsearch\n",
        "from elasticsearch.helpers import bulk\n",
        "from datetime import datetime\n",
        "\n",
        "df = pd.DataFrame(columns=('question', 'answer'))\n",
        "\n",
        "with open('/content/sample_data/amazon_pqa_headset.json') as f:\n",
        "    i=0\n",
        "    for line in f:\n",
        "        data = json.loads(line)\n",
        "        df.loc[i] = [data['question_text'],data['answers'][0]['answer_text']]\n",
        "        i+=1\n",
        "        if(i == 1000):\n",
        "            break\n"
      ],
      "metadata": {
        "id": "ktH56r5qvOi8"
      },
      "execution_count": null,
      "outputs": []
    },
    {
      "cell_type": "code",
      "source": [
        "# Install eland\n",
        "!pip install -q eland elasticsearch elasticsearch_dsl transformers sentence_transformers\n",
        "\n",
        "from elasticsearch_dsl import Search\n",
        "from eland.ml.pytorch import PyTorchModel\n",
        "from eland.ml.pytorch.transformers import TransformerModel\n",
        "from getpass import getpass\n",
        "import logging\n",
        "import tempfile\n",
        "from pprint import pformat\n",
        "import secrets"
      ],
      "metadata": {
        "id": "9B5r8yVC6wQS"
      },
      "execution_count": null,
      "outputs": []
    },
    {
      "cell_type": "code",
      "source": [
        "# Load the eland model\n",
        "\n",
        "logging.basicConfig(format='%(asctime)s %(levelname)s : %(message)s')\n",
        "logger = logging.getLogger(__name__)\n",
        "logger.setLevel(logging.INFO)\n",
        "\n",
        "MODEL_HUB_URL = \"https://huggingface.co\"\n",
        "\n",
        "def load_model(model_id, task_type):\n",
        "  with tempfile.TemporaryDirectory() as tmp_dir:\n",
        "    logger.info(f\"Loading HuggingFace transformer tokenizer and model [{model_id}] for task [{task_type}]\" )\n",
        "\n",
        "    tm = TransformerModel(model_id=model_id, task_type=task_type)\n",
        "    model_path, config, vocab_path = tm.save(tmp_dir)\n",
        "\n",
        "    ptm = PyTorchModel(es, tm.elasticsearch_model_id())\n",
        "    model_exists = es.options(ignore_status=404).ml.get_trained_models(model_id=ptm.model_id).meta.status == 200\n",
        "\n",
        "    if model_exists:\n",
        "      logger.info(\"Model has already been imported\")\n",
        "    else:\n",
        "      logger.info(\"Importing model\")\n",
        "      ptm.import_model(model_path=model_path, config_path=None, vocab_path=vocab_path, config=config)\n",
        "      logger.info(\"Starting model deployment\")\n",
        "      ptm.start()\n",
        "      logger.info(f\"Model successfully imported with id '{ptm.model_id}'\")"
      ],
      "metadata": {
        "id": "xJjODOJz6mgB"
      },
      "execution_count": null,
      "outputs": []
    },
    {
      "cell_type": "code",
      "source": [
        "load_model(\"sentence-transformers/all-MiniLM-L12-v2\", \"text_embedding\")\n",
        "\n",
        "# fetch it so we can see how it loaded\n",
        "es.ml.get_trained_models(model_id=\"sentence-transformers__all-minilm-l12-v2\").body"
      ],
      "metadata": {
        "id": "VdGCezTY71AF",
        "colab": {
          "base_uri": "https://localhost:8080/",
          "height": 477,
          "referenced_widgets": [
            "feff88d0836d4db89a85aa327dbbb447",
            "e649fbcb9f7f47f1b8fa544f8b8edad7",
            "94bd993d7dae47489b997ef939f5d266",
            "74cdbe64ed2045f089cf6f51a14ef03d",
            "1136ef990ca2412eae9f6767cdaf9d6e",
            "a514a962c1b34251b6be84d7ad66f9a1",
            "c8cf49f9deb147d8995c71824302db10",
            "c5c918a9a13645e98f136e618dcb1491",
            "f781ed8d4bb54e4abf6ed890265842c8",
            "0b5c9765d2fc4e62b89342e8da3f27c7",
            "f33af1119fa7423c811dd1f181c1126b"
          ]
        },
        "outputId": "127c7004-95d9-4b6d-c426-896e35320fac"
      },
      "execution_count": null,
      "outputs": [
        {
          "output_type": "stream",
          "name": "stderr",
          "text": [
            "INFO:__main__:Loading HuggingFace transformer tokenizer and model [sentence-transformers/all-MiniLM-L12-v2] for task [text_embedding]\n",
            "INFO:__main__:Importing model\n"
          ]
        },
        {
          "output_type": "display_data",
          "data": {
            "text/plain": [
              "  0%|          | 0/32 [00:00<?, ? parts/s]"
            ],
            "application/vnd.jupyter.widget-view+json": {
              "version_major": 2,
              "version_minor": 0,
              "model_id": "feff88d0836d4db89a85aa327dbbb447"
            }
          },
          "metadata": {}
        },
        {
          "output_type": "stream",
          "name": "stderr",
          "text": [
            "INFO:__main__:Starting model deployment\n",
            "INFO:__main__:Model successfully imported with id 'sentence-transformers__all-minilm-l12-v2'\n"
          ]
        },
        {
          "output_type": "execute_result",
          "data": {
            "text/plain": [
              "{'count': 1,\n",
              " 'trained_model_configs': [{'model_id': 'sentence-transformers__all-minilm-l12-v2',\n",
              "   'model_type': 'pytorch',\n",
              "   'created_by': 'api_user',\n",
              "   'version': '8.9.0',\n",
              "   'create_time': 1692240611181,\n",
              "   'model_size_bytes': 0,\n",
              "   'estimated_operations': 0,\n",
              "   'license_level': 'platinum',\n",
              "   'description': \"Model sentence-transformers/all-MiniLM-L12-v2 for task type 'text_embedding'\",\n",
              "   'tags': [],\n",
              "   'input': {'field_names': ['text_field']},\n",
              "   'inference_config': {'text_embedding': {'vocabulary': {'index': '.ml-inference-native-000001'},\n",
              "     'tokenization': {'bert': {'do_lower_case': True,\n",
              "       'with_special_tokens': True,\n",
              "       'max_sequence_length': 512,\n",
              "       'truncate': 'first',\n",
              "       'span': -1}}}},\n",
              "   'location': {'index': {'name': '.ml-inference-native-000001'}}}]}"
            ]
          },
          "metadata": {},
          "execution_count": 39
        }
      ]
    },
    {
      "cell_type": "markdown",
      "source": [
        "# Create Index, Pipeline and Load Index"
      ],
      "metadata": {
        "id": "FK2ferO_bBzV"
      }
    },
    {
      "cell_type": "code",
      "source": [
        "# Creates an index in Elasticsearch if one isn't already there.\"\"\"\n",
        "es.options(ignore_status=400).indices.create(\n",
        "    index=\"nlp_qpa_1000\",\n",
        "    settings={\"number_of_shards\": 1},\n",
        "    mappings={\n",
        "        \"properties\": {\n",
        "            \"question\": { \"type\": \"text\"},\n",
        "            \"answer\": {\"type\": \"text\"},\n",
        "        }\n",
        "    }\n",
        ")"
      ],
      "metadata": {
        "colab": {
          "base_uri": "https://localhost:8080/"
        },
        "id": "OOHQYK38vvZh",
        "outputId": "f9031b08-9f12-4b7e-f4f0-770c931a1fbb"
      },
      "execution_count": null,
      "outputs": [
        {
          "output_type": "execute_result",
          "data": {
            "text/plain": [
              "ObjectApiResponse({'acknowledged': True, 'shards_acknowledged': True, 'index': 'nlp_qpa_1000'})"
            ]
          },
          "metadata": {},
          "execution_count": 40
        }
      ]
    },
    {
      "cell_type": "code",
      "source": [
        "# Create Pipeline\n",
        "es.ingest.put_pipeline(id=\"sentence-text-embedding\",\n",
        "    description=\"Text embedding pipeline\",\n",
        "    processors=[\n",
        "    {\n",
        "        \"inference\": {\n",
        "        \"model_id\": \"sentence-transformers__all-minilm-l12-v2\",\n",
        "        \"field_map\": {\n",
        "            \"question_text\": \"text_field\"\n",
        "        },\n",
        "        \"target_field\": \"question_vector\"\n",
        "      }\n",
        "    }\n",
        "  ],\n",
        "  on_failure=[\n",
        "    {\n",
        "      \"set\": {\n",
        "        \"description\": \"Index document to 'failed-<index>'\",\n",
        "        \"field\": \"_index\",\n",
        "        \"value\": \"failed-{{{_index}}}\"\n",
        "      }\n",
        "    },\n",
        "    {\n",
        "      \"set\": {\n",
        "        \"description\": \"Set error message\",\n",
        "        \"field\": \"ingest.failure\",\n",
        "        \"value\": \"{{_ingest.on_failure_message}}\"\n",
        "      }\n",
        "    }\n",
        "  ]\n",
        ")"
      ],
      "metadata": {
        "id": "sO3ZPDrZCPcn",
        "colab": {
          "base_uri": "https://localhost:8080/"
        },
        "outputId": "cd8629a8-ea50-4000-82b0-173bb00ca7fc"
      },
      "execution_count": null,
      "outputs": [
        {
          "output_type": "execute_result",
          "data": {
            "text/plain": [
              "ObjectApiResponse({'acknowledged': True})"
            ]
          },
          "metadata": {},
          "execution_count": 41
        }
      ]
    },
    {
      "cell_type": "code",
      "source": [
        "es.options(ignore_status=400).indices.create(\n",
        "    index=\"nlp_pqa_1000_embeddings\",\n",
        "    settings={\"number_of_shards\": 1},\n",
        "    mappings={\n",
        "        \"properties\": {\n",
        "            \"question\": { \"type\": \"text\"},\n",
        "            \"answer\": {\"type\": \"text\"},\n",
        "            \"question_vector.predicted_value\": {\n",
        "            \"type\": \"dense_vector\",\n",
        "            \"dims\": 384,\n",
        "            \"index\": \"true\",\n",
        "            \"similarity\": \"cosine\"\n",
        "            }\n",
        "        }\n",
        "    }\n",
        ")"
      ],
      "metadata": {
        "id": "80j3zYvcFcwx",
        "colab": {
          "base_uri": "https://localhost:8080/"
        },
        "outputId": "96b89c31-df31-44b2-a181-6a69930ca580"
      },
      "execution_count": null,
      "outputs": [
        {
          "output_type": "execute_result",
          "data": {
            "text/plain": [
              "ObjectApiResponse({'acknowledged': True, 'shards_acknowledged': True, 'index': 'nlp_pqa_1000_embeddings'})"
            ]
          },
          "metadata": {},
          "execution_count": 42
        }
      ]
    },
    {
      "cell_type": "code",
      "source": [
        "# Load data through the model using a pipeline\n",
        "def generator():\n",
        "    for index, row in df.iterrows():\n",
        "        yield {\n",
        "            \"_index\": \"nlp_pqa_1000_embeddings\",\n",
        "            \"pipeline\": \"sentence-text-embedding\",\n",
        "            \"question_text\": row[\"question\"],\n",
        "            \"answer\": row[\"answer\"]\n",
        "        }\n",
        "\n",
        "try:\n",
        "    res = bulk(es, generator())\n",
        "    print(\"Response: \", res)\n",
        "except Exception as e:\n",
        "    print(e)\n"
      ],
      "metadata": {
        "id": "GhyIGRDzG_nW",
        "colab": {
          "base_uri": "https://localhost:8080/"
        },
        "outputId": "95379f98-7231-4acc-d5d3-5d3667f36d3b"
      },
      "execution_count": null,
      "outputs": [
        {
          "output_type": "stream",
          "name": "stdout",
          "text": [
            "Response:  (1000, [])\n"
          ]
        }
      ]
    },
    {
      "cell_type": "code",
      "source": [
        "# Start the model if not started will error if started already\n",
        "es.ml.start_trained_model_deployment(model_id=\"sentence-transformers__all-minilm-l12-v2\")"
      ],
      "metadata": {
        "colab": {
          "base_uri": "https://localhost:8080/"
        },
        "id": "_4prpkiIY05D",
        "outputId": "90d66774-2226-4e39-ed6b-870c1d837ff8"
      },
      "execution_count": null,
      "outputs": [
        {
          "output_type": "execute_result",
          "data": {
            "text/plain": [
              "ObjectApiResponse({'assignment': {'task_parameters': {'model_id': 'sentence-transformers__all-minilm-l12-v2', 'deployment_id': 'sentence-transformers__all-minilm-l12-v2', 'model_bytes': 132922385, 'threads_per_allocation': 1, 'number_of_allocations': 1, 'queue_capacity': 1024, 'cache_size': '132922385b', 'priority': 'normal'}, 'routing_table': {'hlv_c1RmSVqcTN2rzu-IDg': {'current_allocations': 1, 'target_allocations': 1, 'routing_state': 'started', 'reason': ''}}, 'assignment_state': 'started', 'start_time': '2023-08-17T02:15:11.365753978Z', 'max_assigned_allocations': 1}})"
            ]
          },
          "metadata": {},
          "execution_count": 29
        }
      ]
    },
    {
      "cell_type": "markdown",
      "source": [
        "# Queries"
      ],
      "metadata": {
        "id": "cRqzd4IOZ3I5"
      }
    },
    {
      "cell_type": "code",
      "source": [
        "# Simple KNN\n",
        "query = input (\"Enter a question :\")\n",
        "print('\\n')\n",
        "\n",
        "knn = {\n",
        "    \"field\": \"question_vector.predicted_value\",\n",
        "    \"k\": 10,\n",
        "    \"num_candidates\": 100,\n",
        "    \"query_vector_builder\": {\n",
        "    \"text_embedding\": {\n",
        "        \"model_id\": \"sentence-transformers__all-minilm-l12-v2\",\n",
        "        \"model_text\": query\n",
        "        }\n",
        "    }\n",
        "}\n",
        "\n",
        "resp = es.search(index=\"nlp_pqa_1000_embeddings\", knn=knn)\n",
        "\n",
        "for hit in resp['hits']['hits']:\n",
        "    doc_id = hit['_id']\n",
        "    score = hit['_score']\n",
        "    question = hit['_source']['question_text']\n",
        "    answer = hit['_source']['answer']\n",
        "    print(f\"Score: {score}\\nQuestion: {question}\\nAnswer: {answer}\\n\")"
      ],
      "metadata": {
        "id": "B3YXTTzzLUPd",
        "colab": {
          "base_uri": "https://localhost:8080/"
        },
        "outputId": "72947acd-f89e-4c3a-a324-5f7e31100ce9"
      },
      "execution_count": null,
      "outputs": [
        {
          "output_type": "stream",
          "name": "stdout",
          "text": [
            "Enter a question :cisco 7492\n",
            "\n",
            "\n",
            "Score: 0.844122\n",
            "Question: does this work with cisco ip phone 7942\n",
            "Answer: Use the Plantronics compatibility guide to see what is compatible with your phone. http://www.plantronics.com/us/compatibility-guide/\n",
            "\n",
            "Score: 0.84125596\n",
            "Question: Is this compatible with the cisco ip 7941 phone?\n",
            "Answer: This headset is compatible with the Cisco 7941 phone with the additional QD Modular plug cord.\n",
            "\n",
            "Score: 0.82627714\n",
            "Question: Is this compatible with the cisco ip phone 7970 / 7961 models?\n",
            "Answer: Don’t know. Call Plantronics\n",
            "\n",
            "Score: 0.8072114\n",
            "Question: will this work with cisco 7942 phone? what cable i need to buy??\n",
            "Answer: I would call Headsets.com in San Francisco.   They are will know.  I buy my other supplies from them  800-432-3738\n",
            "\n",
            "Score: 0.7867383\n",
            "Question: Do I need some sort of adapter to use this with a Cisco IP 7945 phone?\n",
            "Answer: Hi Carter, yes you will need the U10 adapter, part number 26716-01. Give us a call at 1-800-683-5715 for any further questions.\n",
            "\n",
            "Score: 0.7336304\n",
            "Question: Does it work with a Cisco phone/system? thanks!\n",
            "Answer: Hello, the HW251N has an open ended connection called a QD, which makes it compatible with different devices. In this case we would need your phone's specific model to check this. You can also find the compatibility guide directly on our official website under Support   Tools. If you have any other questions, please don't hesitate to contact Plantronics Customer Care at 800-985-9815.\n",
            "\n",
            "Score: 0.73357624\n",
            "Question: Will this work with the Cisco CP-8811 model & i would need to buy the adapter also, correct?\n",
            "Answer: Yes, it works but you need the Quick Disconnect cord, Part Number: 26716-01\n",
            "\n",
            "Score: 0.7312429\n",
            "Question: I would like to use this headset with a cisco CP-6921 phone. which adapter do i need?\n",
            "Answer: Hi there, you need the 26716-01 cable or an m22 amplifier. Give us a call with any further questions at 1-800-683-5715.\n",
            "\n",
            "Score: 0.7111585\n",
            "Question: Will this work with Cisco Jabber?\n",
            "Answer: Yes, it works with Cisco UC Jabber\n",
            "\n",
            "Score: 0.658576\n",
            "Question: Is it compatible with avaya 9508\n",
            "Answer: Hi Jennifer, yes this headset is compatible but you will need to purchase the HIC adapter to go with the headset. Below is a link for you. Give us a call at 1-800-683-5715 for any further questions. https://www.amazon.com/Plantronics-Adapter-Cable-Avaya-phones/dp/B00NNPQHAQ/ref sr 1 3?ie UTF8&qid 1466011028&sr 8-3&keywords 49323-46\n",
            "\n"
          ]
        }
      ]
    },
    {
      "cell_type": "code",
      "source": [
        "# KNN with Filter\n",
        "\n",
        "query = input (\"Enter a question :\")\n",
        "print('\\n')\n",
        "\n",
        "knn = {\n",
        "    \"field\": \"question_vector.predicted_value\",\n",
        "    \"k\": 10,\n",
        "    \"num_candidates\": 100,\n",
        "    \"query_vector_builder\": {\n",
        "    \"text_embedding\": {\n",
        "        \"model_id\": \"sentence-transformers__all-minilm-l12-v2\",\n",
        "        \"model_text\": query\n",
        "        }\n",
        "    },\n",
        "    \"filter\": {\n",
        "      \"bool\": {\n",
        "        \"must_not\": [\n",
        "          {\n",
        "            \"match\": {\n",
        "              \"answer\": \"plantronics\"\n",
        "            }\n",
        "          }\n",
        "        ]\n",
        "      }\n",
        "    }\n",
        "}\n",
        "\n",
        "resp = es.search(index=\"nlp_pqa_1000_embeddings\", knn=knn)\n",
        "\n",
        "for hit in resp['hits']['hits']:\n",
        "    doc_id = hit['_id']\n",
        "    score = hit['_score']\n",
        "    question = hit['_source']['question_text']\n",
        "    answer = hit['_source']['answer']\n",
        "    print(f\"Score: {score}\\nQuestion: {question}\\nAnswer: {answer}\\n\")"
      ],
      "metadata": {
        "id": "Bm7a9_tBQ3gm",
        "colab": {
          "base_uri": "https://localhost:8080/"
        },
        "outputId": "5f07b0d9-1b09-4e0e-827d-3a45629e4cd6"
      },
      "execution_count": null,
      "outputs": [
        {
          "output_type": "stream",
          "name": "stdout",
          "text": [
            "Enter a question :cisco 7942\n",
            "\n",
            "\n",
            "Score: 0.86436224\n",
            "Question: Is this compatible with the cisco ip 7941 phone?\n",
            "Answer: This headset is compatible with the Cisco 7941 phone with the additional QD Modular plug cord.\n",
            "\n",
            "Score: 0.82503355\n",
            "Question: will this work with cisco 7942 phone? what cable i need to buy??\n",
            "Answer: I would call Headsets.com in San Francisco.   They are will know.  I buy my other supplies from them  800-432-3738\n",
            "\n",
            "Score: 0.7967855\n",
            "Question: Do I need some sort of adapter to use this with a Cisco IP 7945 phone?\n",
            "Answer: Hi Carter, yes you will need the U10 adapter, part number 26716-01. Give us a call at 1-800-683-5715 for any further questions.\n",
            "\n",
            "Score: 0.7394031\n",
            "Question: Will this work with the Cisco CP-8811 model & i would need to buy the adapter also, correct?\n",
            "Answer: Yes, it works but you need the Quick Disconnect cord, Part Number: 26716-01\n",
            "\n",
            "Score: 0.71503574\n",
            "Question: I would like to use this headset with a cisco CP-6921 phone. which adapter do i need?\n",
            "Answer: Hi there, you need the 26716-01 cable or an m22 amplifier. Give us a call with any further questions at 1-800-683-5715.\n",
            "\n",
            "Score: 0.6889324\n",
            "Question: Will this work with Cisco Jabber?\n",
            "Answer: Yes, it works with Cisco UC Jabber\n",
            "\n",
            "Score: 0.6808344\n",
            "Question: difference between plantronics bluetooth 87300-41 and 87300-41-RB\n",
            "Answer: Hey Arul, there is no difference. The RB is just for Refurbished. It's easier to identify the product. Hope this helps.\n",
            "\n",
            "Score: 0.6680364\n",
            "Question: m70 or m90?\n",
            "Answer: I have not tried M90 but M70 is great.\n",
            "\n",
            "Score: 0.6653814\n",
            "Question: what's means  for 6640-906-105 \"?\"\n",
            "Answer: It pertains to the model no. If The Headset and it's function with lynks by microsoft\n",
            "\n",
            "Score: 0.66449606\n",
            "Question: What ports are on the headset?\n",
            "Answer: L/R audio and a charging port.\n",
            "\n"
          ]
        }
      ]
    },
    {
      "cell_type": "markdown",
      "source": [],
      "metadata": {
        "id": "_-CsI9BpZYky"
      }
    },
    {
      "cell_type": "code",
      "source": [
        "# Hybrid search rrf\n",
        "query = input (\"Enter a question :\")\n",
        "\n",
        "print('\\n')\n",
        "body = {\n",
        "    \"query\": {\n",
        "      \"bool\": {\n",
        "      \"must\": [\n",
        "        {\n",
        "          \"match\": {\n",
        "            \"answer\": \"polycom\"\n",
        "          }\n",
        "        }\n",
        "      ]\n",
        "    }\n",
        "  },\n",
        "  \"knn\": {\n",
        "    \"field\": \"question_vector.predicted_value\",\n",
        "    \"k\": 10,\n",
        "    \"num_candidates\": 100,\n",
        "    \"query_vector_builder\": {\n",
        "      \"text_embedding\": {\n",
        "        \"model_id\": \"sentence-transformers__all-minilm-l12-v2\",\n",
        "        \"model_text\": query\n",
        "      }\n",
        "    }\n",
        "  },\n",
        "  \"rank\": {\n",
        "        \"rrf\": {\n",
        "            \"window_size\": 50,\n",
        "            \"rank_constant\": 20\n",
        "        }\n",
        "    }\n",
        "}\n",
        "resp = es.search(index=\"nlp_pqa_1000_embeddings\", body=body)\n",
        "\n",
        "for hit in resp['hits']['hits']:\n",
        "    doc_id = hit['_id']\n",
        "    rank = hit['_rank']\n",
        "    question = hit['_source']['question_text']\n",
        "    answer = hit['_source']['answer']\n",
        "    print(f\"\\nRank: {rank}\\nQuestion: {question}\\nAnswer: {answer}\\n\")"
      ],
      "metadata": {
        "id": "KuwwDu3p8BWS",
        "colab": {
          "base_uri": "https://localhost:8080/"
        },
        "outputId": "de8ebb37-2d01-4d0f-e286-c3e883db1691"
      },
      "execution_count": null,
      "outputs": [
        {
          "output_type": "stream",
          "name": "stdout",
          "text": [
            "Enter a question :cisco 7492\n",
            "\n",
            "\n",
            "\n",
            "Rank: 1\n",
            "Question: does this work with cisco ip phone 7942\n",
            "Answer: Use the Plantronics compatibility guide to see what is compatible with your phone. http://www.plantronics.com/us/compatibility-guide/\n",
            "\n",
            "\n",
            "Rank: 2\n",
            "Question: Will it work with a polycom vvx 250?\n",
            "Answer: Yes,it will  work with a polycom vvx 250.\n",
            "\n",
            "\n",
            "Rank: 3\n",
            "Question: Is this compatible with the cisco ip 7941 phone?\n",
            "Answer: This headset is compatible with the Cisco 7941 phone with the additional QD Modular plug cord.\n",
            "\n",
            "\n",
            "Rank: 4\n",
            "Question: Will this work with polycom vvx 400 and 410?\n",
            "Answer: Yes,it work with polycom vvx 400 and 410.\n",
            "\n",
            "\n",
            "Rank: 5\n",
            "Question: Is this compatible with the cisco ip phone 7970 / 7961 models?\n",
            "Answer: Don’t know. Call Plantronics\n",
            "\n",
            "\n",
            "Rank: 6\n",
            "Question: Will this work for a polycom vvx phone? also, is it necessary to purchase that extra adapter if i will use only with ploycom?\n",
            "Answer: Yes, but you need a cable in between the headset and the Polycom. Plantronics Part Number: 27190-01\n",
            "\n",
            "\n",
            "Rank: 7\n",
            "Question: will this work with cisco 7942 phone? what cable i need to buy??\n",
            "Answer: I would call Headsets.com in San Francisco.   They are will know.  I buy my other supplies from them  800-432-3738\n",
            "\n",
            "\n",
            "Rank: 8\n",
            "Question: Do I need some sort of adapter to use this with a Cisco IP 7945 phone?\n",
            "Answer: Hi Carter, yes you will need the U10 adapter, part number 26716-01. Give us a call at 1-800-683-5715 for any further questions.\n",
            "\n",
            "\n",
            "Rank: 9\n",
            "Question: Does it work with a Cisco phone/system? thanks!\n",
            "Answer: Hello, the HW251N has an open ended connection called a QD, which makes it compatible with different devices. In this case we would need your phone's specific model to check this. You can also find the compatibility guide directly on our official website under Support   Tools. If you have any other questions, please don't hesitate to contact Plantronics Customer Care at 800-985-9815.\n",
            "\n",
            "\n",
            "Rank: 10\n",
            "Question: Will this work with the Cisco CP-8811 model & i would need to buy the adapter also, correct?\n",
            "Answer: Yes, it works but you need the Quick Disconnect cord, Part Number: 26716-01\n",
            "\n"
          ]
        },
        {
          "output_type": "stream",
          "name": "stderr",
          "text": [
            "<ipython-input-46-1c51c1b417b3>:35: DeprecationWarning: The 'body' parameter is deprecated and will be removed in a future version. Instead use individual parameters.\n",
            "  resp = es.search(index=\"nlp_pqa_1000_embeddings\", body=body)\n"
          ]
        }
      ]
    }
  ]
}